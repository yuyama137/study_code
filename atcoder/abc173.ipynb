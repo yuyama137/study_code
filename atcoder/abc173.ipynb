{
 "cells": [
  {
   "cell_type": "markdown",
   "metadata": {},
   "source": [
    "# ABC 173\n",
    "\n",
    " ### C問題\n",
    " \n",
    " - 全探索\n",
    " - bit全探索"
   ]
  },
  {
   "cell_type": "code",
   "execution_count": 14,
   "metadata": {},
   "outputs": [
    {
     "name": "stdout",
     "output_type": "stream",
     "text": [
      "2 3 2\n",
      "..#\n",
      "###\n"
     ]
    }
   ],
   "source": [
    "import numpy as np\n",
    "\n",
    "def tonum(x):\n",
    "    if x == \"#\":\n",
    "        out = 1\n",
    "    else:\n",
    "        out = 0\n",
    "    return out\n",
    "\n",
    "def make_conv(x):\n",
    "    out = []\n",
    "    count = 0\n",
    "    for i in range(x):\n",
    "        for \n",
    "\n",
    "H, W, K = map(int, input().split())\n",
    "\n",
    "c = []\n",
    "for h in range(H):\n",
    "    tmp = list(input())\n",
    "    tmp = list(map(tonum, tmp))\n",
    "    c.append(tmp)\n",
    "\n"
   ]
  },
  {
   "cell_type": "markdown",
   "metadata": {},
   "source": [
    "全探索"
   ]
  },
  {
   "cell_type": "code",
   "execution_count": 26,
   "metadata": {},
   "outputs": [
    {
     "name": "stdout",
     "output_type": "stream",
     "text": [
      "[0, 0]\n",
      "[0, 0, 1]\n",
      "None\n"
     ]
    }
   ],
   "source": [
    "M = 3\n",
    "bi = []\n",
    "# for i in range(2):\n",
    "#     for j in range(2):\n",
    "#         for l in range(2):\n",
    "#             tmp = [i,j,l]\n",
    "#             bi.append(tmp)\n",
    "\n",
    "def check_all(lst, depth):\n",
    "    depth -= 1\n",
    "    for i in range(2):\n",
    "        tmp = lst\n",
    "        tmp.append(i)\n",
    "        if depth == 0:\n",
    "            print(tmp)\n",
    "        else:\n",
    "            return check_all(tmp, depth)\n",
    "tmp = []\n",
    "bi = check_all(tmp, 2)\n",
    "\n",
    "print(bi)\n",
    "    "
   ]
  },
  {
   "cell_type": "code",
   "execution_count": 9,
   "metadata": {},
   "outputs": [
    {
     "data": {
      "text/plain": [
       "[['.', '.', '#'], ['#', '#', '#']]"
      ]
     },
     "execution_count": 9,
     "metadata": {},
     "output_type": "execute_result"
    }
   ],
   "source": [
    "c"
   ]
  },
  {
   "cell_type": "code",
   "execution_count": 40,
   "metadata": {},
   "outputs": [
    {
     "name": "stdout",
     "output_type": "stream",
     "text": [
      "[0, 0, 0, 0, 0, 0]\n",
      "[0, 0, 0, 0, 0, 1]\n",
      "[0, 0, 0, 0, 1, 0]\n",
      "[0, 0, 0, 0, 1, 1]\n",
      "[0, 0, 0, 1, 0, 0]\n",
      "[0, 0, 0, 1, 0, 1]\n",
      "[0, 0, 0, 1, 1, 0]\n",
      "[0, 0, 0, 1, 1, 1]\n",
      "[0, 0, 1, 0, 0, 0]\n",
      "[0, 0, 1, 0, 0, 1]\n",
      "[0, 0, 1, 0, 1, 0]\n",
      "[0, 0, 1, 0, 1, 1]\n",
      "[0, 0, 1, 1, 0, 0]\n",
      "[0, 0, 1, 1, 0, 1]\n",
      "[0, 0, 1, 1, 1, 0]\n",
      "[0, 0, 1, 1, 1, 1]\n",
      "[0, 1, 0, 0, 0, 0]\n",
      "[0, 1, 0, 0, 0, 1]\n",
      "[0, 1, 0, 0, 1, 0]\n",
      "[0, 1, 0, 0, 1, 1]\n",
      "[0, 1, 0, 1, 0, 0]\n",
      "[0, 1, 0, 1, 0, 1]\n",
      "[0, 1, 0, 1, 1, 0]\n",
      "[0, 1, 0, 1, 1, 1]\n",
      "[0, 1, 1, 0, 0, 0]\n",
      "[0, 1, 1, 0, 0, 1]\n",
      "[0, 1, 1, 0, 1, 0]\n",
      "[0, 1, 1, 0, 1, 1]\n",
      "[0, 1, 1, 1, 0, 0]\n",
      "[0, 1, 1, 1, 0, 1]\n",
      "[0, 1, 1, 1, 1, 0]\n",
      "[0, 1, 1, 1, 1, 1]\n",
      "[1, 0, 0, 0, 0, 0]\n",
      "[1, 0, 0, 0, 0, 1]\n",
      "[1, 0, 0, 0, 1, 0]\n",
      "[1, 0, 0, 0, 1, 1]\n",
      "[1, 0, 0, 1, 0, 0]\n",
      "[1, 0, 0, 1, 0, 1]\n",
      "[1, 0, 0, 1, 1, 0]\n",
      "[1, 0, 0, 1, 1, 1]\n",
      "[1, 0, 1, 0, 0, 0]\n",
      "[1, 0, 1, 0, 0, 1]\n",
      "[1, 0, 1, 0, 1, 0]\n",
      "[1, 0, 1, 0, 1, 1]\n",
      "[1, 0, 1, 1, 0, 0]\n",
      "[1, 0, 1, 1, 0, 1]\n",
      "[1, 0, 1, 1, 1, 0]\n",
      "[1, 0, 1, 1, 1, 1]\n",
      "[1, 1, 0, 0, 0, 0]\n",
      "[1, 1, 0, 0, 0, 1]\n",
      "[1, 1, 0, 0, 1, 0]\n",
      "[1, 1, 0, 0, 1, 1]\n",
      "[1, 1, 0, 1, 0, 0]\n",
      "[1, 1, 0, 1, 0, 1]\n",
      "[1, 1, 0, 1, 1, 0]\n",
      "[1, 1, 0, 1, 1, 1]\n",
      "[1, 1, 1, 0, 0, 0]\n",
      "[1, 1, 1, 0, 0, 1]\n",
      "[1, 1, 1, 0, 1, 0]\n",
      "[1, 1, 1, 0, 1, 1]\n",
      "[1, 1, 1, 1, 0, 0]\n",
      "[1, 1, 1, 1, 0, 1]\n",
      "[1, 1, 1, 1, 1, 0]\n",
      "[1, 1, 1, 1, 1, 1]\n",
      "ans :  [[0, 0, 0, 0, 0, 0], [0, 0, 0, 0, 0, 1], [0, 0, 0, 0, 1, 0], [0, 0, 0, 0, 1, 1], [0, 0, 0, 1, 0, 0], [0, 0, 0, 1, 0, 1], [0, 0, 0, 1, 1, 0], [0, 0, 0, 1, 1, 1], [0, 0, 1, 0, 0, 0], [0, 0, 1, 0, 0, 1], [0, 0, 1, 0, 1, 0], [0, 0, 1, 0, 1, 1], [0, 0, 1, 1, 0, 0], [0, 0, 1, 1, 0, 1], [0, 0, 1, 1, 1, 0], [0, 0, 1, 1, 1, 1], [0, 1, 0, 0, 0, 0], [0, 1, 0, 0, 0, 1], [0, 1, 0, 0, 1, 0], [0, 1, 0, 0, 1, 1], [0, 1, 0, 1, 0, 0], [0, 1, 0, 1, 0, 1], [0, 1, 0, 1, 1, 0], [0, 1, 0, 1, 1, 1], [0, 1, 1, 0, 0, 0], [0, 1, 1, 0, 0, 1], [0, 1, 1, 0, 1, 0], [0, 1, 1, 0, 1, 1], [0, 1, 1, 1, 0, 0], [0, 1, 1, 1, 0, 1], [0, 1, 1, 1, 1, 0], [0, 1, 1, 1, 1, 1], [1, 0, 0, 0, 0, 0], [1, 0, 0, 0, 0, 1], [1, 0, 0, 0, 1, 0], [1, 0, 0, 0, 1, 1], [1, 0, 0, 1, 0, 0], [1, 0, 0, 1, 0, 1], [1, 0, 0, 1, 1, 0], [1, 0, 0, 1, 1, 1], [1, 0, 1, 0, 0, 0], [1, 0, 1, 0, 0, 1], [1, 0, 1, 0, 1, 0], [1, 0, 1, 0, 1, 1], [1, 0, 1, 1, 0, 0], [1, 0, 1, 1, 0, 1], [1, 0, 1, 1, 1, 0], [1, 0, 1, 1, 1, 1], [1, 1, 0, 0, 0, 0], [1, 1, 0, 0, 0, 1], [1, 1, 0, 0, 1, 0], [1, 1, 0, 0, 1, 1], [1, 1, 0, 1, 0, 0], [1, 1, 0, 1, 0, 1], [1, 1, 0, 1, 1, 0], [1, 1, 0, 1, 1, 1], [1, 1, 1, 0, 0, 0], [1, 1, 1, 0, 0, 1], [1, 1, 1, 0, 1, 0], [1, 1, 1, 0, 1, 1], [1, 1, 1, 1, 0, 0], [1, 1, 1, 1, 0, 1], [1, 1, 1, 1, 1, 0], [1, 1, 1, 1, 1, 1]]\n"
     ]
    }
   ],
   "source": [
    "import copy\n",
    "\n",
    "result = []\n",
    "\n",
    "def print_saiki(x, depth):\n",
    "    depth-=1\n",
    "    for i in range(2):\n",
    "        tmp = copy.deepcopy(x)\n",
    "        tmp.append(i)\n",
    "        if depth==0:\n",
    "            print(tmp)\n",
    "            result.append(tmp)\n",
    "            \n",
    "        else:\n",
    "            print_saiki(tmp, depth)\n",
    "\n",
    "print_saiki([], 6)\n",
    "print(\"ans : \", result)"
   ]
  },
  {
   "cell_type": "code",
   "execution_count": 46,
   "metadata": {},
   "outputs": [
    {
     "name": "stdout",
     "output_type": "stream",
     "text": [
      "[[1], [0, 0], [0, 1]]\n",
      "[[0, 0], [0, 1], [1, 0], [1, 1]]\n",
      "[[0, 1], [1, 0], [1, 1], [0, 0, 0], [0, 0, 1]]\n",
      "[[1, 0], [1, 1], [0, 0, 0], [0, 0, 1], [0, 1, 0], [0, 1, 1]]\n",
      "[[1, 1], [0, 0, 0], [0, 0, 1], [0, 1, 0], [0, 1, 1], [1, 0, 0], [1, 0, 1]]\n",
      "[[0, 0, 0], [0, 0, 1], [0, 1, 0], [0, 1, 1], [1, 0, 0], [1, 0, 1], [1, 1, 0], [1, 1, 1]]\n",
      "[[0, 0, 1], [0, 1, 0], [0, 1, 1], [1, 0, 0], [1, 0, 1], [1, 1, 0], [1, 1, 1]]\n",
      "[[0, 1, 0], [0, 1, 1], [1, 0, 0], [1, 0, 1], [1, 1, 0], [1, 1, 1]]\n",
      "[[0, 1, 1], [1, 0, 0], [1, 0, 1], [1, 1, 0], [1, 1, 1]]\n",
      "[[1, 0, 0], [1, 0, 1], [1, 1, 0], [1, 1, 1]]\n",
      "[[1, 0, 1], [1, 1, 0], [1, 1, 1]]\n",
      "[[1, 1, 0], [1, 1, 1]]\n",
      "[[1, 1, 1]]\n",
      "[]\n",
      "[[0, 0, 0, 0], [0, 0, 0, 1], [0, 0, 1, 0], [0, 0, 1, 1], [0, 1, 0, 0], [0, 1, 0, 1], [0, 1, 1, 0], [0, 1, 1, 1], [1, 0, 0, 0], [1, 0, 0, 1], [1, 0, 1, 0], [1, 0, 1, 1], [1, 1, 0, 0], [1, 1, 0, 1], [1, 1, 1, 0], [1, 1, 1, 1]]\n"
     ]
    }
   ],
   "source": [
    "lst = [0,1,2,3]\n",
    "\n",
    "q = [[0], [1]]\n",
    "\n",
    "L = 3\n",
    "# haba\n",
    "\n",
    "result = []\n",
    "\n",
    "def print_haba(depth):\n",
    "    if len(q) != 0:\n",
    "        q_now = q.pop(0)\n",
    "        for i in range(2):\n",
    "            tmp = copy.deepcopy(q_now)\n",
    "            tmp.append(i)\n",
    "            if len(tmp)!= depth:\n",
    "                q.append(tmp)\n",
    "            else:\n",
    "                result.append(tmp)\n",
    "        print(q)\n",
    "        print_haba(depth)\n",
    "    else:\n",
    "        pass\n",
    "    \n",
    "print_haba(4)\n",
    "    \n",
    "print(result)"
   ]
  },
  {
   "cell_type": "code",
   "execution_count": 41,
   "metadata": {},
   "outputs": [
    {
     "ename": "IndexError",
     "evalue": "pop from empty list",
     "output_type": "error",
     "traceback": [
      "\u001b[0;31m---------------------------------------------------------------------------\u001b[0m",
      "\u001b[0;31mIndexError\u001b[0m                                Traceback (most recent call last)",
      "\u001b[0;32m<ipython-input-41-3698502d3876>\u001b[0m in \u001b[0;36m<module>\u001b[0;34m\u001b[0m\n\u001b[1;32m      1\u001b[0m \u001b[0ma\u001b[0m \u001b[0;34m=\u001b[0m \u001b[0;34m[\u001b[0m\u001b[0;34m]\u001b[0m\u001b[0;34m\u001b[0m\u001b[0;34m\u001b[0m\u001b[0m\n\u001b[0;32m----> 2\u001b[0;31m \u001b[0ma\u001b[0m\u001b[0;34m.\u001b[0m\u001b[0mpop\u001b[0m\u001b[0;34m(\u001b[0m\u001b[0;36m0\u001b[0m\u001b[0;34m)\u001b[0m\u001b[0;34m\u001b[0m\u001b[0;34m\u001b[0m\u001b[0m\n\u001b[0m",
      "\u001b[0;31mIndexError\u001b[0m: pop from empty list"
     ]
    }
   ],
   "source": [
    "a = []\n",
    "a.pop(0)"
   ]
  },
  {
   "cell_type": "code",
   "execution_count": null,
   "metadata": {},
   "outputs": [],
   "source": []
  }
 ],
 "metadata": {
  "kernelspec": {
   "display_name": "Python 3",
   "language": "python",
   "name": "python3"
  },
  "language_info": {
   "codemirror_mode": {
    "name": "ipython",
    "version": 3
   },
   "file_extension": ".py",
   "mimetype": "text/x-python",
   "name": "python",
   "nbconvert_exporter": "python",
   "pygments_lexer": "ipython3",
   "version": "3.8.5"
  }
 },
 "nbformat": 4,
 "nbformat_minor": 4
}
