{
 "cells": [
  {
   "cell_type": "code",
   "execution_count": null,
   "metadata": {},
   "outputs": [],
   "source": [
    "import numpy as np\n",
    "\n",
    "x = int(input())\n",
    "\n",
    "if x == 0:\n",
    "    print(1)\n",
    "else:\n",
    "    print(0)\n"
   ]
  },
  {
   "cell_type": "code",
   "execution_count": 3,
   "metadata": {},
   "outputs": [
    {
     "name": "stdout",
     "output_type": "stream",
     "text": [
      "1 2 3 4\n",
      "<class 'int'>\n",
      "1\n"
     ]
    }
   ],
   "source": [
    "import numpy as np\n",
    "\n",
    "a, b, c, d = map(int, input().split())\n",
    "\n",
    "a_abs = np.abs(a)\n",
    "b_abs = np.abs(b)\n",
    "c_abs = np.abs(c)\n",
    "d_abs = np.abs(d)\n",
    "\n",
    "if b*d >= 0 or a*c>=0:\n",
    "    print(max(b*d, a*c))\n",
    "else:\n",
    "    print(max(a*c, a*d, b*c, b*d))"
   ]
  },
  {
   "cell_type": "code",
   "execution_count": 4,
   "metadata": {},
   "outputs": [
    {
     "data": {
      "text/plain": [
       "-1"
      ]
     },
     "execution_count": 4,
     "metadata": {},
     "output_type": "execute_result"
    }
   ],
   "source": [
    "min(1,2,3,-1)"
   ]
  },
  {
   "cell_type": "code",
   "execution_count": 42,
   "metadata": {},
   "outputs": [
    {
     "name": "stdout",
     "output_type": "stream",
     "text": [
      "2\n",
      "<class 'int'>\n",
      "2\n"
     ]
    }
   ],
   "source": [
    "import numpy as np\n",
    "\n",
    "m = 1e9+7\n",
    "\n",
    "N = int(input())\n",
    "\n",
    "def culc_mod(a, b, md):\n",
    "    \"\"\"a^b (mod md)\"\"\"\n",
    "    tmp = 1\n",
    "    for _ in range(b):\n",
    "        tmp *= a\n",
    "        tmp = tmp%md\n",
    "    return tmp\n",
    "    \n",
    "a = culc_mod(10, N, m)\n",
    "b = culc_mod(9, N, m)\n",
    "c = culc_mod(8, N, m)\n",
    "\n",
    "print(int((a-2*b+c)%m))"
   ]
  },
  {
   "cell_type": "code",
   "execution_count": 49,
   "metadata": {},
   "outputs": [
    {
     "name": "stdout",
     "output_type": "stream",
     "text": [
      "1729\n"
     ]
    },
    {
     "ename": "OverflowError",
     "evalue": "int too large to convert to float",
     "output_type": "error",
     "traceback": [
      "\u001b[0;31m---------------------------------------------------------------------------\u001b[0m",
      "\u001b[0;31mOverflowError\u001b[0m                             Traceback (most recent call last)",
      "\u001b[0;32m<ipython-input-49-a39439da0ed6>\u001b[0m in \u001b[0;36m<module>\u001b[0;34m\u001b[0m\n\u001b[1;32m     26\u001b[0m     \u001b[0minit\u001b[0m \u001b[0;34m=\u001b[0m \u001b[0mS\u001b[0m \u001b[0;34m-\u001b[0m \u001b[0;36m3\u001b[0m\u001b[0;34m*\u001b[0m\u001b[0mi\u001b[0m\u001b[0;34m\u001b[0m\u001b[0;34m\u001b[0m\u001b[0m\n\u001b[1;32m     27\u001b[0m     \u001b[0;31m# (S - init)C(i-1)\u001b[0m\u001b[0;34m\u001b[0m\u001b[0;34m\u001b[0m\u001b[0;34m\u001b[0m\u001b[0m\n\u001b[0;32m---> 28\u001b[0;31m     \u001b[0mc\u001b[0m \u001b[0;34m=\u001b[0m \u001b[0mcomb\u001b[0m\u001b[0;34m(\u001b[0m\u001b[0minit\u001b[0m\u001b[0;34m+\u001b[0m\u001b[0mi\u001b[0m\u001b[0;34m-\u001b[0m\u001b[0;36m1\u001b[0m\u001b[0;34m,\u001b[0m \u001b[0mi\u001b[0m\u001b[0;34m-\u001b[0m\u001b[0;36m1\u001b[0m\u001b[0;34m,\u001b[0m \u001b[0mm\u001b[0m\u001b[0;34m)\u001b[0m\u001b[0;34m\u001b[0m\u001b[0;34m\u001b[0m\u001b[0m\n\u001b[0m\u001b[1;32m     29\u001b[0m     \u001b[0mcount\u001b[0m \u001b[0;34m+=\u001b[0m \u001b[0mc\u001b[0m\u001b[0;34m\u001b[0m\u001b[0;34m\u001b[0m\u001b[0m\n\u001b[1;32m     30\u001b[0m     \u001b[0mcount\u001b[0m \u001b[0;34m=\u001b[0m \u001b[0mcount\u001b[0m\u001b[0;34m%\u001b[0m\u001b[0mm\u001b[0m\u001b[0;34m\u001b[0m\u001b[0;34m\u001b[0m\u001b[0m\n",
      "\u001b[0;32m<ipython-input-49-a39439da0ed6>\u001b[0m in \u001b[0;36mcomb\u001b[0;34m(n, k, p)\u001b[0m\n\u001b[1;32m      8\u001b[0m     \u001b[0;32mif\u001b[0m \u001b[0mn\u001b[0m\u001b[0;34m<\u001b[0m\u001b[0;36m0\u001b[0m \u001b[0;32mor\u001b[0m \u001b[0mk\u001b[0m\u001b[0;34m<\u001b[0m\u001b[0;36m0\u001b[0m \u001b[0;32mor\u001b[0m \u001b[0mn\u001b[0m\u001b[0;34m<\u001b[0m\u001b[0mk\u001b[0m\u001b[0;34m:\u001b[0m \u001b[0;32mreturn\u001b[0m \u001b[0;36m0\u001b[0m\u001b[0;34m\u001b[0m\u001b[0;34m\u001b[0m\u001b[0m\n\u001b[1;32m      9\u001b[0m     \u001b[0;32mif\u001b[0m \u001b[0mn\u001b[0m\u001b[0;34m==\u001b[0m\u001b[0;36m0\u001b[0m \u001b[0;32mor\u001b[0m \u001b[0mk\u001b[0m\u001b[0;34m==\u001b[0m\u001b[0;36m0\u001b[0m\u001b[0;34m:\u001b[0m \u001b[0;32mreturn\u001b[0m \u001b[0;36m1\u001b[0m\u001b[0;34m\u001b[0m\u001b[0;34m\u001b[0m\u001b[0m\n\u001b[0;32m---> 10\u001b[0;31m     \u001b[0ma\u001b[0m\u001b[0;34m=\u001b[0m\u001b[0mfactorial\u001b[0m\u001b[0;34m(\u001b[0m\u001b[0mn\u001b[0m\u001b[0;34m)\u001b[0m \u001b[0;34m%\u001b[0m\u001b[0mp\u001b[0m\u001b[0;34m\u001b[0m\u001b[0;34m\u001b[0m\u001b[0m\n\u001b[0m\u001b[1;32m     11\u001b[0m     \u001b[0mb\u001b[0m\u001b[0;34m=\u001b[0m\u001b[0mfactorial\u001b[0m\u001b[0;34m(\u001b[0m\u001b[0mk\u001b[0m\u001b[0;34m)\u001b[0m \u001b[0;34m%\u001b[0m\u001b[0mp\u001b[0m\u001b[0;34m\u001b[0m\u001b[0;34m\u001b[0m\u001b[0m\n\u001b[1;32m     12\u001b[0m     \u001b[0mc\u001b[0m\u001b[0;34m=\u001b[0m\u001b[0mfactorial\u001b[0m\u001b[0;34m(\u001b[0m\u001b[0mn\u001b[0m\u001b[0;34m-\u001b[0m\u001b[0mk\u001b[0m\u001b[0;34m)\u001b[0m \u001b[0;34m%\u001b[0m\u001b[0mp\u001b[0m\u001b[0;34m\u001b[0m\u001b[0;34m\u001b[0m\u001b[0m\n",
      "\u001b[0;31mOverflowError\u001b[0m: int too large to convert to float"
     ]
    }
   ],
   "source": [
    "import numpy as np\n",
    "\n",
    "S = int(input())\n",
    "m = 1e9+7\n",
    "\n",
    "def comb(n,k,p):\n",
    "    from math import factorial\n",
    "    if n<0 or k<0 or n<k: return 0\n",
    "    if n==0 or k==0: return 1\n",
    "    a=factorial(n) %p\n",
    "    b=factorial(k) %p\n",
    "    c=factorial(n-k) %p\n",
    "    return (a*power_func(b,p-2,p)*power_func(c,p-2,p))%p\n",
    "def power_func(a,b,p):\n",
    "    if b==0: return 1\n",
    "    if b%2==0:\n",
    "        d=power_func(a,b//2,p)\n",
    "        return d*d %p\n",
    "    if b%2==1:\n",
    "        return (a*power_func(a,b-1,p ))%p\n",
    "\n",
    "max_ = S//3\n",
    "count = 0\n",
    "\n",
    "for i in range(1, max_+1):\n",
    "    init = S - 3*i\n",
    "    # (S - init)C(i-1)\n",
    "    c = comb(init+i-1, i-1, m)\n",
    "    count += c\n",
    "    count = count%m\n",
    "\n",
    "print(int(count))"
   ]
  },
  {
   "cell_type": "code",
   "execution_count": 34,
   "metadata": {},
   "outputs": [
    {
     "data": {
      "text/plain": [
       "2"
      ]
     },
     "execution_count": 34,
     "metadata": {},
     "output_type": "execute_result"
    }
   ],
   "source": [
    "7//3"
   ]
  },
  {
   "cell_type": "code",
   "execution_count": 35,
   "metadata": {},
   "outputs": [
    {
     "name": "stdout",
     "output_type": "stream",
     "text": [
      "1\n",
      "2\n",
      "3\n"
     ]
    }
   ],
   "source": [
    "for i in range(1,4):\n",
    "    print(i)"
   ]
  },
  {
   "cell_type": "code",
   "execution_count": null,
   "metadata": {},
   "outputs": [],
   "source": [
    "import numpy as np\n",
    "\n",
    "def comb(n,k,p):\n",
    "    \"\"\"power_funcを用いて(nCk) mod p を求める\"\"\"\n",
    "    from math import factorial\n",
    "    if n<0 or k<0 or n<k: return 0\n",
    "    if n==0 or k==0: return 1\n",
    "    a=factorial(n) %p\n",
    "    b=factorial(k) %p\n",
    "    c=factorial(n-k) %p\n",
    "    return (a*power_func(b,p-2,p)*power_func(c,p-2,p))%p\n",
    "def power_func(a,b,p):\n",
    "    \"\"\"a^b mod p を求める\"\"\"\n",
    "    if b==0: return 1\n",
    "    if b%2==0:\n",
    "        d=power_func(a,b//2,p)\n",
    "        return d*d %p\n",
    "    if b%2==1:\n",
    "        return (a*power_func(a,b-1,p ))%p\n",
    "\n",
    "m = 1e9+7\n",
    "\n",
    "N = int(input())\n",
    "\n",
    "print(type(N))\n",
    "\n",
    "n = N%m\n",
    "nn = (N-1)%m\n",
    "\n",
    "c = (n*nn)%m\n",
    "\n",
    "tmp = power_func(10, N-2, m)\n",
    "\n",
    "print(count)\n",
    "out = (c*tmp)%m\n",
    "print(int(out))"
   ]
  },
  {
   "cell_type": "code",
   "execution_count": null,
   "metadata": {},
   "outputs": [],
   "source": []
  },
  {
   "cell_type": "code",
   "execution_count": null,
   "metadata": {},
   "outputs": [],
   "source": [
    "import numpy as np\n",
    "\n",
    "c = []\n",
    "\n",
    "N = int(input())\n",
    "for _ in range(N):\n",
    "    X, Y = map(int, input().split())\n",
    "    c.append([X, Y])\n",
    "    \n",
    "x_lst = [c[i][0] for i in range(N)]\n",
    "y_lst = [c[i][1] for i in range(N)]\n",
    "\n",
    "x_min = min(x_lst)\n",
    "y_min = min(y_lst)\n",
    "\n",
    "x_max = max(x_lst)\n",
    "y_max = max(y_lst)\n",
    "\n",
    "\n"
   ]
  },
  {
   "cell_type": "code",
   "execution_count": 50,
   "metadata": {},
   "outputs": [
    {
     "data": {
      "text/plain": [
       "4"
      ]
     },
     "execution_count": 50,
     "metadata": {},
     "output_type": "execute_result"
    }
   ],
   "source": [
    "-1%5"
   ]
  },
  {
   "cell_type": "code",
   "execution_count": null,
   "metadata": {},
   "outputs": [],
   "source": []
  },
  {
   "cell_type": "code",
   "execution_count": null,
   "metadata": {},
   "outputs": [],
   "source": []
  },
  {
   "cell_type": "code",
   "execution_count": null,
   "metadata": {},
   "outputs": [],
   "source": []
  }
 ],
 "metadata": {
  "kernelspec": {
   "display_name": "Python 3",
   "language": "python",
   "name": "python3"
  },
  "language_info": {
   "codemirror_mode": {
    "name": "ipython",
    "version": 3
   },
   "file_extension": ".py",
   "mimetype": "text/x-python",
   "name": "python",
   "nbconvert_exporter": "python",
   "pygments_lexer": "ipython3",
   "version": "3.8.5"
  }
 },
 "nbformat": 4,
 "nbformat_minor": 4
}
