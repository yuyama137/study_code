{
 "cells": [
  {
   "cell_type": "markdown",
   "metadata": {},
   "source": [
    "# abc171"
   ]
  },
  {
   "cell_type": "markdown",
   "metadata": {},
   "source": [
    "## C問題\n",
    "\n",
    "26進数の問題ではない！\n"
   ]
  },
  {
   "cell_type": "code",
   "execution_count": 33,
   "metadata": {},
   "outputs": [
    {
     "name": "stdout",
     "output_type": "stream",
     "text": [
      "702\n",
      "aaz\n"
     ]
    }
   ],
   "source": [
    "import numpy as np\n",
    "\n",
    "n = int(input())\n",
    "\n",
    "alp = \"abcdefghijklmnopqrstuvwxyz\"\n",
    "alp = list(alp)\n",
    "\n",
    "mod_lst = []\n",
    "\n",
    "while n>0:\n",
    "    m = n%26\n",
    "    n = n//26\n",
    "    mod_lst.append(m-1)\n",
    "    if m==0 and n==1:\n",
    "        break\n",
    "\n",
    "mod_lst.reverse()\n",
    "ans = []\n",
    "for i in mod_lst:\n",
    "    ans.append(alp[i])\n",
    "ans = \"\".join(ans)\n",
    "print(ans)"
   ]
  },
  {
   "cell_type": "code",
   "execution_count": 31,
   "metadata": {},
   "outputs": [
    {
     "data": {
      "text/plain": [
       "702"
      ]
     },
     "execution_count": 31,
     "metadata": {},
     "output_type": "execute_result"
    }
   ],
   "source": [
    "26*26+26"
   ]
  },
  {
   "cell_type": "code",
   "execution_count": null,
   "metadata": {},
   "outputs": [],
   "source": []
  }
 ],
 "metadata": {
  "kernelspec": {
   "display_name": "Python 3",
   "language": "python",
   "name": "python3"
  },
  "language_info": {
   "codemirror_mode": {
    "name": "ipython",
    "version": 3
   },
   "file_extension": ".py",
   "mimetype": "text/x-python",
   "name": "python",
   "nbconvert_exporter": "python",
   "pygments_lexer": "ipython3",
   "version": "3.8.5"
  }
 },
 "nbformat": 4,
 "nbformat_minor": 4
}
