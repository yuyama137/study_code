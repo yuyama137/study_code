{
 "cells": [
  {
   "cell_type": "markdown",
   "metadata": {},
   "source": [
    "# ABC175\n",
    "\n",
    "## C問題"
   ]
  },
  {
   "cell_type": "code",
   "execution_count": 26,
   "metadata": {},
   "outputs": [
    {
     "name": "stdout",
     "output_type": "stream",
     "text": [
      "1000000000000000 1000000000000000 1000000000000000\n",
      "1000000000000000\n"
     ]
    }
   ],
   "source": [
    "import numpy as np\n",
    "\n",
    "inpt = input()\n",
    "inpt_list = inpt.split(\" \")\n",
    "X, K, D = [int(x) for x in inpt_list]\n",
    "\n",
    "X_abs = np.abs(X)\n",
    "num = X_abs // D\n",
    "rem = K - num\n",
    "if rem < 0:\n",
    "    out = X_abs - D*K\n",
    "else:\n",
    "    if rem%2==0:\n",
    "        out = X_abs - num*D\n",
    "    else:\n",
    "        out = np.abs(X_abs - num*D - D)\n",
    "print(out)"
   ]
  },
  {
   "cell_type": "markdown",
   "metadata": {},
   "source": [
    "## D問題"
   ]
  },
  {
   "cell_type": "code",
   "execution_count": 6,
   "metadata": {},
   "outputs": [
    {
     "name": "stdout",
     "output_type": "stream",
     "text": [
      "10 58\n",
      "9 1 6 7 8 4 3 2 10 5\n",
      "695279662 988782657 -119067776 382975538 -151885171 -177220596 -169777795 37619092 389386780 980092719\n",
      "29507023469\n"
     ]
    }
   ],
   "source": [
    "import numpy as np\n",
    "\n",
    "N, K = map(int, input().split(\" \"))\n",
    "P = np.array(list(map(int, input().split(\" \"))))-1\n",
    "C = list(map(int, input().split(\" \")))\n",
    "\n",
    "max_lst = []\n",
    "for i in range(len(C)):\n",
    "    tmp_max_lst = []\n",
    "    idx = -1\n",
    "    for j in range(K+1):\n",
    "        if idx!=-1:\n",
    "            if len(tmp_max_lst)==0:\n",
    "                tmp = C[idx]\n",
    "            else:\n",
    "                tmp = tmp_max_lst[-1] + C[idx]\n",
    "#             import pdb; pdb.set_trace()\n",
    "            tmp_max_lst.append(tmp)\n",
    "            idx = P[idx]\n",
    "        else:\n",
    "            idx = P[i]\n",
    "    max_lst.append(max(tmp_max_lst))\n",
    "#     import pdb; pdb.set_trace()\n",
    "out = max(max_lst)\n",
    "print(out)"
   ]
  },
  {
   "cell_type": "code",
   "execution_count": 40,
   "metadata": {},
   "outputs": [
    {
     "data": {
      "text/plain": [
       "0"
      ]
     },
     "execution_count": 40,
     "metadata": {},
     "output_type": "execute_result"
    }
   ],
   "source": [
    "out"
   ]
  },
  {
   "cell_type": "code",
   "execution_count": null,
   "metadata": {},
   "outputs": [],
   "source": [
    "10 58\n",
    "9 1 6 7 8 4 3 2 10 5\n",
    "695279662 988782657 -119067776 382975538 -151885171 -177220596 -169777795 37619092 389386780 980092719"
   ]
  }
 ],
 "metadata": {
  "kernelspec": {
   "display_name": "Python 3",
   "language": "python",
   "name": "python3"
  },
  "language_info": {
   "codemirror_mode": {
    "name": "ipython",
    "version": 3
   },
   "file_extension": ".py",
   "mimetype": "text/x-python",
   "name": "python",
   "nbconvert_exporter": "python",
   "pygments_lexer": "ipython3",
   "version": "3.8.5"
  }
 },
 "nbformat": 4,
 "nbformat_minor": 4
}
