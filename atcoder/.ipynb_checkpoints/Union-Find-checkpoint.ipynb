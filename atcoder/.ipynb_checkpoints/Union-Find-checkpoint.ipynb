{
 "cells": [
  {
   "cell_type": "markdown",
   "metadata": {},
   "source": [
    "# Union-Find"
   ]
  },
  {
   "cell_type": "markdown",
   "metadata": {},
   "source": [
    "素集合を管理するデータ構造。ルートの要素をそのグループのidとする。\n",
    "\n",
    "### __init__\n",
    "\n",
    "- 全てのノードがルートにあるとする\n",
    "- 高さを保持しておく\n",
    "    - unionする時にどちらを接続するかを決めるのに使う。\n",
    "\n",
    "### Find(x)\n",
    "\n",
    "- xのルートを返す\n",
    "- xが直接ルートにくっついていない時は、その親ノードを次々と書き換えていき、検索した要素に関しては、ルートに直接つなぐようにする\n",
    "    - 走査したノードについては、全てルートが直接の親ノードになるとする。\n",
    "\n",
    "### Union(x, y)\n",
    "\n",
    "- xとyが同じグループに所属するようにする\n",
    "- xが所属する木とyが所属する木を接続することになる。\n",
    "    - それぞれの木のルート同士を接続する\n",
    "    - 小さい木を大きい木に接続する"
   ]
  },
  {
   "cell_type": "code",
   "execution_count": 2,
   "metadata": {},
   "outputs": [],
   "source": [
    "\"\"\"ver.1\"\"\"\n",
    "class UnionFind():\n",
    "    def __init__(self, N):\n",
    "        \"\"\"\n",
    "        それぞれの要素のルートを自分自身を指定する。\n",
    "        それぞれの要素の高さを保持しておく\n",
    "        \n",
    "        args:\n",
    "            - N (int) : 全データの要素数\n",
    "        \"\"\"\n",
    "        self.parent = [i for i in range(N)]\n",
    "        self.height = [0] * N\n",
    "    \n",
    "    def find(self, x):\n",
    "        if self.parent[x] == x:\n",
    "            return x\n",
    "        else:\n",
    "            self.parent[x] = self.find(self.parent[x])\n",
    "            return self.find(self.parent[x])\n",
    "        \n",
    "    def union(self, x, y):\n",
    "        root_x = self.find(x)\n",
    "        root_y = self.find(y)\n",
    "        \n",
    "        if self.height[root_y] > self.height[root_x]:# x を yにくっつける\n",
    "            self.parent[root_x] = root_y\n",
    "        else: # y を xにくっつける\n",
    "            self.parent[root_y] = root_x\n",
    "            if self.height[root_x] == self.height[root_y]:\n",
    "                self.height[root_x] += 1\n",
    "    \n",
    "    def count_group(self, x):\n",
    "        \"\"\"xが含まれるグループの要素数を得る\"\"\"\n",
    "        root_x = self.find(x)\n",
    "        return self.parent.count(root_x)"
   ]
  },
  {
   "cell_type": "code",
   "execution_count": null,
   "metadata": {},
   "outputs": [],
   "source": [
    "\"\"\"ver.2 ref : https://qiita.com/Kerzival/items/6923c2eb3b91be86f19f\"\"\"\n",
    "\n",
    "class UnionTree:\n",
    "    def __init__(self, N):\n",
    "        pass"
   ]
  },
  {
   "cell_type": "code",
   "execution_count": null,
   "metadata": {},
   "outputs": [],
   "source": []
  },
  {
   "cell_type": "code",
   "execution_count": null,
   "metadata": {},
   "outputs": [],
   "source": []
  },
  {
   "cell_type": "code",
   "execution_count": null,
   "metadata": {},
   "outputs": [],
   "source": []
  },
  {
   "cell_type": "code",
   "execution_count": null,
   "metadata": {},
   "outputs": [],
   "source": []
  },
  {
   "cell_type": "code",
   "execution_count": null,
   "metadata": {},
   "outputs": [],
   "source": []
  },
  {
   "cell_type": "code",
   "execution_count": null,
   "metadata": {},
   "outputs": [],
   "source": []
  },
  {
   "cell_type": "code",
   "execution_count": null,
   "metadata": {},
   "outputs": [],
   "source": []
  },
  {
   "cell_type": "code",
   "execution_count": null,
   "metadata": {},
   "outputs": [],
   "source": []
  },
  {
   "cell_type": "code",
   "execution_count": null,
   "metadata": {},
   "outputs": [],
   "source": []
  },
  {
   "cell_type": "code",
   "execution_count": null,
   "metadata": {},
   "outputs": [],
   "source": []
  },
  {
   "cell_type": "code",
   "execution_count": null,
   "metadata": {},
   "outputs": [],
   "source": []
  }
 ],
 "metadata": {
  "kernelspec": {
   "display_name": "Python 3",
   "language": "python",
   "name": "python3"
  },
  "language_info": {
   "codemirror_mode": {
    "name": "ipython",
    "version": 3
   },
   "file_extension": ".py",
   "mimetype": "text/x-python",
   "name": "python",
   "nbconvert_exporter": "python",
   "pygments_lexer": "ipython3",
   "version": "3.8.5"
  }
 },
 "nbformat": 4,
 "nbformat_minor": 4
}
