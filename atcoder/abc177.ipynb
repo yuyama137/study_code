{
 "cells": [
  {
   "cell_type": "markdown",
   "metadata": {},
   "source": [
    "# 177\n",
    "\n",
    "## A問題"
   ]
  },
  {
   "cell_type": "code",
   "execution_count": 1,
   "metadata": {},
   "outputs": [],
   "source": [
    "import numpy as np\n",
    "\n",
    "D, T, S = map(int, input().split(\" \"))\n",
    "\n",
    "time = D/S\n",
    "\n",
    "if time > T:\n",
    "    print(\"No\")\n",
    "else:\n",
    "    print(\"Yes\")"
   ]
  },
  {
   "cell_type": "markdown",
   "metadata": {},
   "source": [
    "## B問題"
   ]
  },
  {
   "cell_type": "code",
   "execution_count": 10,
   "metadata": {},
   "outputs": [
    {
     "name": "stdout",
     "output_type": "stream",
     "text": [
      "codeforces\n",
      "atcoder\n",
      "['c', 'o', 'd', 'e', 'f', 'o', 'r']\n",
      "['o', 'd', 'e', 'f', 'o', 'r', 'c']\n",
      "['d', 'e', 'f', 'o', 'r', 'c', 'e']\n",
      "6\n"
     ]
    }
   ],
   "source": [
    "import numpy as np\n",
    "\n",
    "S = list(input())\n",
    "T = list(input())\n",
    "\n",
    "s_len = len(S)\n",
    "t_len = len(T)\n",
    "\n",
    "max_same = 0\n",
    "for i in range(s_len-t_len+1):\n",
    "    tmp_s = S[i:i+t_len]\n",
    "    count_same = 0\n",
    "    for j in range(t_len):\n",
    "        if T[j] == tmp_s[j]:\n",
    "            count_same += 1\n",
    "    if count_same > max_same:\n",
    "        max_same = count_same\n",
    "print(t_len-max_same)"
   ]
  },
  {
   "cell_type": "markdown",
   "metadata": {},
   "source": [
    "## C問題"
   ]
  },
  {
   "cell_type": "code",
   "execution_count": 5,
   "metadata": {},
   "outputs": [
    {
     "name": "stdout",
     "output_type": "stream",
     "text": [
      "4\n",
      "141421356 17320508 22360679 244949\n",
      "0 1\n",
      "0 2\n",
      "0 3\n",
      "1 2\n",
      "1 3\n",
      "2 3\n",
      "True\n",
      "[233947203.0, 203288626.0]\n",
      "437235829.0\n"
     ]
    }
   ],
   "source": [
    "import numpy as np\n",
    "\n",
    "N = int(input())\n",
    "A = list(map(int, input().split(\" \")))\n",
    "\n",
    "mod_num = 1e9 + 7\n",
    "\n",
    "tmp_sum = 0\n",
    "mod_lst = []\n",
    "for i in range(N-1):\n",
    "    for j in range(i+1, N):\n",
    "        tmp_sum+=(A[i]*A[j])%mod_num\n",
    "        print(i,j)\n",
    "        if tmp_sum>mod_num:\n",
    "            tmp = tmp_sum%mod_num\n",
    "            mod_lst.append(tmp)\n",
    "            tmp_sum = 0\n",
    "\n",
    "if len(mod_lst)!=0:\n",
    "    tmp_sum = 0\n",
    "    flag = True\n",
    "    while flag:\n",
    "        print(flag)\n",
    "        print(mod_lst)\n",
    "        tmp_mod_lst = []\n",
    "        for m in mod_lst:\n",
    "            tmp_sum+=m\n",
    "            if tmp_sum>mod_num:\n",
    "                tmp = tmp_sum%mod_num\n",
    "                tmp_mod_lst.append(tmp)\n",
    "                tmp_sum = 0\n",
    "        if len(tmp_mod_lst) == 0:\n",
    "            print(tmp_sum)\n",
    "            flag=False\n",
    "        if len(tmp_mod_lst) == 1:\n",
    "            print(int(tmp_mod_lst[0]))\n",
    "            flag = False\n",
    "        else:\n",
    "            mod_lst = tmp_mod_lst\n",
    "else:\n",
    "    print(int(tmp_sum))"
   ]
  },
  {
   "cell_type": "code",
   "execution_count": 10,
   "metadata": {},
   "outputs": [
    {
     "name": "stdout",
     "output_type": "stream",
     "text": [
      "4\n",
      "141421356 17320508 22360679 244949\n",
      "437235829\n"
     ]
    }
   ],
   "source": [
    "import numpy as np\n",
    "\n",
    "N = int(input())\n",
    "A = list(map(int, input().split(\" \")))\n",
    "mod_num = 1e9 + 7\n",
    "\n",
    "sum_lst = sum(A)\n",
    "\n",
    "sum_tmp = 0\n",
    "for i in range(N-1):\n",
    "    sum_tmp += (((sum_lst - A[i])%mod_num)*(A[i]))%mod_num\n",
    "    sum_lst = sum_lst - A[i]\n",
    "\n",
    "print(int(sum_tmp%mod_num))"
   ]
  },
  {
   "cell_type": "markdown",
   "metadata": {},
   "source": [
    "## D問題"
   ]
  },
  {
   "cell_type": "code",
   "execution_count": null,
   "metadata": {},
   "outputs": [],
   "source": [
    "import numpy as np\n",
    "class UnionFind():\n",
    "    def __init__(self, N):\n",
    "        \"\"\"\n",
    "        それぞれの要素のルートを自分自身を指定する。\n",
    "        それぞれの要素の高さを保持しておく\n",
    "        \n",
    "        args:\n",
    "            - N (int) : 全データの要素数\n",
    "        \"\"\"\n",
    "        self.parent = [i for i in range(N)]\n",
    "        self.height = [0] * N\n",
    "    \n",
    "    def find(self, x):\n",
    "        if self.parent[x] == x:\n",
    "            return x\n",
    "        else:\n",
    "            self.parent[x] = self.find(self.parent[x])\n",
    "            return self.find(self.parent[x])\n",
    "        \n",
    "    def union(self, x, y):\n",
    "        root_x = self.find(x)\n",
    "        root_y = self.find(y)\n",
    "        \n",
    "        if self.height[root_y] > self.height[root_x]:# x を yにくっつける\n",
    "            self.parent[root_x] = root_y\n",
    "        else: # y を xにくっつける\n",
    "            self.parent[root_y] = root_x\n",
    "            if self.height[root_x] == self.height[root_y]:\n",
    "                self.height[root_x] += 1\n",
    "    \n",
    "    def count_group(self, x):\n",
    "        \"\"\"xが含まれるグループの要素数を得る\"\"\"\n",
    "        root_x = self.find(x)\n",
    "        return self.parent.count(root_x)\n",
    "\n",
    "    \n",
    "N, M = map(int, input().split())\n",
    "A = []\n",
    "B = []\n",
    "for _ in range(M):\n",
    "    a, b = map(int, input().split())\n",
    "    A.append(a)\n",
    "    B.append(b)\n",
    "\n",
    "u = UnionFind(N)\n",
    "for i in range(M):\n",
    "    u.union(A[i], B[i])\n",
    "\n",
    "p_lst = np.array(u.parent)\n",
    "_, count = np.unique(p_lst, return_counts=True)\n",
    "max_count = count.max()\n",
    "print(max_count)\n",
    "\n",
    "\n",
    "\n"
   ]
  },
  {
   "cell_type": "code",
   "execution_count": 12,
   "metadata": {},
   "outputs": [
    {
     "data": {
      "text/plain": [
       "6"
      ]
     },
     "execution_count": 12,
     "metadata": {},
     "output_type": "execute_result"
    }
   ],
   "source": [
    "import numpy as np\n",
    "a = np.array([1,2,3,4,5,4,3,6,2])\n",
    "a.max()"
   ]
  },
  {
   "cell_type": "code",
   "execution_count": null,
   "metadata": {},
   "outputs": [],
   "source": []
  },
  {
   "cell_type": "code",
   "execution_count": null,
   "metadata": {},
   "outputs": [],
   "source": [
    "N, K = map(int, input().split(\" \"))\n",
    "P = np.array(list(map(int, input().split(\" \"))))-1\n",
    "C = list(map(int, input().split(\" \")))"
   ]
  }
 ],
 "metadata": {
  "kernelspec": {
   "display_name": "Python 3",
   "language": "python",
   "name": "python3"
  },
  "language_info": {
   "codemirror_mode": {
    "name": "ipython",
    "version": 3
   },
   "file_extension": ".py",
   "mimetype": "text/x-python",
   "name": "python",
   "nbconvert_exporter": "python",
   "pygments_lexer": "ipython3",
   "version": "3.8.5"
  }
 },
 "nbformat": 4,
 "nbformat_minor": 4
}
