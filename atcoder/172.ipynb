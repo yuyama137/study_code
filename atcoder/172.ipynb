{
 "cells": [
  {
   "cell_type": "markdown",
   "metadata": {},
   "source": [
    "# abc172\n",
    "\n",
    "### C"
   ]
  },
  {
   "cell_type": "code",
   "execution_count": 5,
   "metadata": {},
   "outputs": [
    {
     "name": "stdout",
     "output_type": "stream",
     "text": [
      "3 4 730\n",
      "60 90 120\n",
      "80 150 80 150\n"
     ]
    },
    {
     "ename": "IndexError",
     "evalue": "list index out of range",
     "output_type": "error",
     "traceback": [
      "\u001b[0;31m---------------------------------------------------------------------------\u001b[0m",
      "\u001b[0;31mIndexError\u001b[0m                                Traceback (most recent call last)",
      "\u001b[0;32m<ipython-input-5-b51873c3bb19>\u001b[0m in \u001b[0;36m<module>\u001b[0;34m\u001b[0m\n\u001b[1;32m     31\u001b[0m             \u001b[0mcount_b\u001b[0m \u001b[0;34m+=\u001b[0m \u001b[0;36m1\u001b[0m\u001b[0;34m\u001b[0m\u001b[0;34m\u001b[0m\u001b[0m\n\u001b[1;32m     32\u001b[0m         \u001b[0;32melse\u001b[0m\u001b[0;34m:\u001b[0m\u001b[0;34m\u001b[0m\u001b[0;34m\u001b[0m\u001b[0m\n\u001b[0;32m---> 33\u001b[0;31m             \u001b[0mtmp\u001b[0m\u001b[0;34m.\u001b[0m\u001b[0mappend\u001b[0m\u001b[0;34m(\u001b[0m\u001b[0mA\u001b[0m\u001b[0;34m[\u001b[0m\u001b[0mcount_a\u001b[0m\u001b[0;34m]\u001b[0m\u001b[0;34m)\u001b[0m\u001b[0;34m\u001b[0m\u001b[0;34m\u001b[0m\u001b[0m\n\u001b[0m\u001b[1;32m     34\u001b[0m             \u001b[0mcount_a\u001b[0m \u001b[0;34m+=\u001b[0m \u001b[0;36m1\u001b[0m\u001b[0;34m\u001b[0m\u001b[0;34m\u001b[0m\u001b[0m\n\u001b[1;32m     35\u001b[0m     \u001b[0;32melse\u001b[0m\u001b[0;34m:\u001b[0m\u001b[0;34m\u001b[0m\u001b[0;34m\u001b[0m\u001b[0m\n",
      "\u001b[0;31mIndexError\u001b[0m: list index out of range"
     ]
    }
   ],
   "source": [
    "import numpy as np\n",
    "\n",
    "N, M, K = map(int, input().split())\n",
    "A = list(map(int, input().split()))\n",
    "B = list(map(int, input().split()))\n",
    "\n",
    "A.append(1e10)\n",
    "B.append(1e10)\n",
    "\n",
    "time = 0\n",
    "count_a = 0\n",
    "count_b = 0\n",
    "\n",
    "out = []\n",
    "tmp = []\n",
    "\n",
    "if A[count_a] < B[count_b]:\n",
    "  tmp.append(A[count_a])\n",
    "  count_a += 1\n",
    "  flag = 0# A\n",
    "else:\n",
    "  tmp.append(B[count_b])\n",
    "  count_b += 1\n",
    "  flag = 1# B\n",
    "\n",
    "while(True):\n",
    "    if flag == 0:\n",
    "        if sum(tmp) > B[count_b]:\n",
    "            out.append(B[count_b])\n",
    "            count_a -= len(tmp)\n",
    "            count_b += 1\n",
    "        else:\n",
    "            tmp.append(A[count_a])\n",
    "            count_a += 1\n",
    "    else:\n",
    "        if sum(tmp) > A[count_a]:\n",
    "            out.append(A[count_a])\n",
    "            count_b -= len(tmp)\n",
    "            count_a += 1\n",
    "        else:\n",
    "            tmp.append(B[count_b])\n",
    "            count_a += 1\n",
    "    \n",
    "    if sum(out) + sum(tmp) > K:\n",
    "        out += tmp[:-1]\n",
    "        break\n",
    "\n",
    "print(len(out))"
   ]
  },
  {
   "cell_type": "code",
   "execution_count": null,
   "metadata": {},
   "outputs": [],
   "source": [
    "3 4 730\n",
    "60 90 120\n",
    "80 150 80 150"
   ]
  }
 ],
 "metadata": {
  "kernelspec": {
   "display_name": "Python 3",
   "language": "python",
   "name": "python3"
  },
  "language_info": {
   "codemirror_mode": {
    "name": "ipython",
    "version": 3
   },
   "file_extension": ".py",
   "mimetype": "text/x-python",
   "name": "python",
   "nbconvert_exporter": "python",
   "pygments_lexer": "ipython3",
   "version": "3.8.5"
  }
 },
 "nbformat": 4,
 "nbformat_minor": 4
}
